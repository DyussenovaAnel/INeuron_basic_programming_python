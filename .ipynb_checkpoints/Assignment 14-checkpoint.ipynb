{
 "cells": [
  {
   "cell_type": "markdown",
   "id": "5ae5ae3c",
   "metadata": {},
   "source": [
    "Question 1:\n",
    "Define a class with a generator which can iterate the numbers, which are divisible by\n",
    "7, between a given range 0 and n."
   ]
  },
  {
   "cell_type": "code",
   "execution_count": 4,
   "id": "f51f41c9",
   "metadata": {},
   "outputs": [
    {
     "name": "stdout",
     "output_type": "stream",
     "text": [
      "0\n",
      "7\n",
      "14\n",
      "21\n",
      "28\n",
      "35\n",
      "42\n"
     ]
    }
   ],
   "source": [
    "class Q_1:\n",
    "    def q_1(self, n):\n",
    "        for i in range(0, n):\n",
    "            if i%7==0:\n",
    "                yield i\n",
    "\n",
    "q = Q_1()\n",
    "for ele in q.q_1(49):\n",
    "    print(ele)\n"
   ]
  },
  {
   "cell_type": "markdown",
   "id": "39462fda",
   "metadata": {},
   "source": [
    "Question 2:\n",
    "Write a program to compute the frequency of the words from the input. The output\n",
    "should output after sorting the key alphanumerically.\n",
    "Suppose the following input is supplied to the program:\n",
    "New to Python or choosing between Python 2 and Python 3? Read Python 2 or Python 3.\n",
    "Then, the output should be:\n",
    "2:2\n",
    "3.:1\n",
    "3?:1\n",
    "New:1\n",
    "Python:5\n",
    "Read:1\n",
    "and:1\n",
    "between:1\n",
    "choosing:1\n",
    "or:2\n",
    "to:1"
   ]
  },
  {
   "cell_type": "code",
   "execution_count": 7,
   "id": "bbd24104",
   "metadata": {},
   "outputs": [
    {
     "name": "stdout",
     "output_type": "stream",
     "text": [
      "New to Python or choosing between Python 2 and Python 3? Read Python 2 or Python 3.\n",
      "[('2', 2), ('3.', 1), ('3?', 1), ('New', 1), ('Python', 5), ('Read', 1), ('and', 1), ('between', 1), ('choosing', 1), ('or', 2), ('to', 1)]\n"
     ]
    }
   ],
   "source": [
    "from collections import Counter\n",
    "def q_2(text):\n",
    "    arr = text.split(\" \")\n",
    "    c = Counter(arr)\n",
    "    res = sorted(c.items())\n",
    "    return res\n",
    "    \n",
    "text = input()\n",
    "print(q_2(text))"
   ]
  },
  {
   "cell_type": "markdown",
   "id": "4f59e4df",
   "metadata": {},
   "source": [
    "Question 3:\n",
    "\n",
    "Define a class Person and its two child classes: Male and Female. All classes have a\n",
    "method \"getGender\" which can print \"Male\" for Male class and \"Female\" for Female\n",
    "class."
   ]
  },
  {
   "cell_type": "code",
   "execution_count": 10,
   "id": "0980bdb7",
   "metadata": {},
   "outputs": [
    {
     "name": "stdout",
     "output_type": "stream",
     "text": [
      "Female Male\n"
     ]
    }
   ],
   "source": [
    "class Person:\n",
    "    pass \n",
    "\n",
    "class Female(Person):\n",
    "    def getGender(self):\n",
    "        return \"Female\"\n",
    "\n",
    "class Male(Person):\n",
    "    def getGender(self):\n",
    "        return \"Male\"\n",
    "    \n",
    "f = Female()\n",
    "m = Male()     \n",
    "print(f.getGender(), m.getGender())"
   ]
  },
  {
   "cell_type": "markdown",
   "id": "bfadceb7",
   "metadata": {},
   "source": [
    "Question 4:\n",
    "\n",
    "Please write a program to generate all sentences where subject is in [\"I\", \"You\"] and\n",
    "verb is in [\"Play\", \"Love\"] and the object is in [\"Hockey\",\"Football\"]."
   ]
  },
  {
   "cell_type": "code",
   "execution_count": 12,
   "id": "a0b4daa6",
   "metadata": {},
   "outputs": [
    {
     "name": "stdout",
     "output_type": "stream",
     "text": [
      "I Play Hockey\n",
      "I Play Football\n",
      "I Love Hockey\n",
      "I Love Football\n",
      "You Play Hockey\n",
      "You Play Football\n",
      "You Love Hockey\n",
      "You Love Football\n"
     ]
    }
   ],
   "source": [
    "import itertools\n",
    "subject = [\"I\", \"You\"] \n",
    "verb = [\"Play\", \"Love\"]\n",
    "objectt = [\"Hockey\",\"Football\"]\n",
    "alll = [subject, verb, objectt]\n",
    "\n",
    "res = list(itertools.product(*alll))\n",
    "\n",
    "for r in res:\n",
    "    print(\" \".join(r))"
   ]
  },
  {
   "cell_type": "markdown",
   "id": "5b723bbf",
   "metadata": {},
   "source": [
    "Question 5:\n",
    "Please write a program to compress and decompress the string \"hello world!hello\n",
    "world!hello world!hello world!\"."
   ]
  },
  {
   "cell_type": "code",
   "execution_count": 18,
   "id": "683071fc",
   "metadata": {},
   "outputs": [
    {
     "name": "stdout",
     "output_type": "stream",
     "text": [
      "b'x\\x9c\\xcbH\\xcd\\xc9\\xc9W(\\xcf/\\xcaIQ\\xcc \\x82\\r\\x00\\xbd[\\x11\\xf5'\n",
      "b'hello world!hello world!hello world!hello world!'\n"
     ]
    }
   ],
   "source": [
    "import zlib\n",
    "\n",
    "s = b\"hello world!hello world!hello world!hello world!\"\n",
    "compressed_value = zlib.compress(s)\n",
    "print(compressed_value)\n",
    "decompressed_value = zlib.decompress(compressed_value)\n",
    "print(decompressed_value)"
   ]
  },
  {
   "cell_type": "markdown",
   "id": "31ed1f0b",
   "metadata": {},
   "source": [
    "Question 6:\n",
    "Please write a binary search function which searches an item in a sorted list. The\n",
    "function should return the index of element to be searched in the list."
   ]
  },
  {
   "cell_type": "code",
   "execution_count": 54,
   "id": "47ff1a48",
   "metadata": {},
   "outputs": [],
   "source": [
    "def binary_search(arr, target):\n",
    "    return bs_rec(arr, target, 0, len(arr))\n",
    "\n",
    "def bs_rec(arr, x, low, high):\n",
    "    if low > high:\n",
    "        return False \n",
    "    \n",
    "    else:\n",
    "        mid = (low + high) // 2 \n",
    "        if x == arr[mid]:\n",
    "            return mid\n",
    "        elif x > arr[mid]:      \n",
    "            return bs_rec(arr, x, mid + 1, high)\n",
    "        else:                      \n",
    "            return bs_rec(arr, x, low, mid - 1) "
   ]
  },
  {
   "cell_type": "code",
   "execution_count": 60,
   "id": "7cab3524",
   "metadata": {},
   "outputs": [
    {
     "data": {
      "text/plain": [
       "2"
      ]
     },
     "execution_count": 60,
     "metadata": {},
     "output_type": "execute_result"
    }
   ],
   "source": [
    "binary_search([1,2,3,4,5,6,7,8,9], 3)"
   ]
  },
  {
   "cell_type": "code",
   "execution_count": null,
   "id": "8aaac840",
   "metadata": {},
   "outputs": [],
   "source": []
  }
 ],
 "metadata": {
  "kernelspec": {
   "display_name": "Python 3 (ipykernel)",
   "language": "python",
   "name": "python3"
  },
  "language_info": {
   "codemirror_mode": {
    "name": "ipython",
    "version": 3
   },
   "file_extension": ".py",
   "mimetype": "text/x-python",
   "name": "python",
   "nbconvert_exporter": "python",
   "pygments_lexer": "ipython3",
   "version": "3.9.12"
  }
 },
 "nbformat": 4,
 "nbformat_minor": 5
}
