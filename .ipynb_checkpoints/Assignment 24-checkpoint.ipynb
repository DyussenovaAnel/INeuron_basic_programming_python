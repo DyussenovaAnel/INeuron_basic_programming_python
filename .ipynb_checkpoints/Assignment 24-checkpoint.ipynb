{
 "cells": [
  {
   "cell_type": "code",
   "execution_count": null,
   "id": "69cc333a",
   "metadata": {},
   "outputs": [],
   "source": [
    "Question1\n",
    "Create a function that takes an integer and returns a list from 1 to the given number, where:\n",
    "1. If the number can be divided evenly by 4, amplify it by 10 (i.e. return 10 times the\n",
    "number).\n",
    "2. If the number cannot be divided evenly by 4, simply return the number.\n",
    "Examples\n",
    "amplify(4) ➞ [1, 2, 3, 40]"
   ]
  },
  {
   "cell_type": "code",
   "execution_count": 4,
   "id": "72b130a8",
   "metadata": {},
   "outputs": [
    {
     "data": {
      "text/plain": [
       "[1, 2, 3, 40]"
      ]
     },
     "execution_count": 4,
     "metadata": {},
     "output_type": "execute_result"
    }
   ],
   "source": [
    "def amplify(n):\n",
    "    res = []\n",
    "    for i in range(1, n+1):\n",
    "        if i%4 == 0:\n",
    "            res.append(i*10)\n",
    "        else:\n",
    "            res.append(i)\n",
    "    return res\n",
    "\n",
    "amplify(4)"
   ]
  },
  {
   "cell_type": "markdown",
   "id": "72f0472e",
   "metadata": {},
   "source": [
    "Question2\n",
    "Create a function that takes a list of numbers and return the number that's unique.\n",
    "Examples\n",
    "unique([3, 3, 3, 7, 3, 3]) ➞ 7"
   ]
  },
  {
   "cell_type": "code",
   "execution_count": 7,
   "id": "a04a502e",
   "metadata": {},
   "outputs": [
    {
     "data": {
      "text/plain": [
       "7"
      ]
     },
     "execution_count": 7,
     "metadata": {},
     "output_type": "execute_result"
    }
   ],
   "source": [
    "from collections import Counter\n",
    "def unique(arr):\n",
    "    c = Counter(arr)\n",
    "    for k, v in c.items():\n",
    "        if v==1:\n",
    "            return k\n",
    "    return \"Not that number\"\n",
    "unique([3, 3, 3, 7, 3, 3])"
   ]
  },
  {
   "cell_type": "markdown",
   "id": "e2d0c4f1",
   "metadata": {},
   "source": [
    "Question3\n",
    "Your task is to create a Circle constructor that creates a circle with a radius provided by an\n",
    "argument. The circles constructed must have two getters getArea() (PIr^2) and\n",
    "getPerimeter() (2PI*r) which give both respective areas and perimeter (circumference).\n",
    "\n",
    "For help with this class, I have provided you with a Rectangle constructor which you can use\n",
    "as a base example.\n",
    "Examples\n",
    "circy = Circle(11)\n",
    "circy.getArea()\n",
    "Should return 380.132711084365"
   ]
  },
  {
   "cell_type": "code",
   "execution_count": 9,
   "id": "9d05f105",
   "metadata": {},
   "outputs": [
    {
     "data": {
      "text/plain": [
       "380.132711084365"
      ]
     },
     "execution_count": 9,
     "metadata": {},
     "output_type": "execute_result"
    }
   ],
   "source": [
    "import math\n",
    "class Circle():\n",
    "    def __init__(self, r):\n",
    "        self.radius = r\n",
    "    \n",
    "    def getArea(self):\n",
    "        return math.pi*self.radius**2\n",
    "\n",
    "circy = Circle(11)\n",
    "circy.getArea()"
   ]
  },
  {
   "cell_type": "markdown",
   "id": "0abdc12e",
   "metadata": {},
   "source": [
    "Question4\n",
    "Create a function that takes a list of strings and return a list, sorted from shortest to longest.\n",
    "Examples\n",
    "sort_by_length([\"Google\", \"Apple\", \"Microsoft\"])\n",
    "➞ [\"Apple\", \"Google\", \"Microsoft\"]"
   ]
  },
  {
   "cell_type": "code",
   "execution_count": 13,
   "id": "866c6a39",
   "metadata": {},
   "outputs": [
    {
     "data": {
      "text/plain": [
       "dict_keys(['Raphael', 'Leonardo', 'Donatello', 'Michelangelo'])"
      ]
     },
     "execution_count": 13,
     "metadata": {},
     "output_type": "execute_result"
    }
   ],
   "source": [
    "def sort_by_length(arr):\n",
    "    d = {}\n",
    "    for a in arr:\n",
    "        d[a] = len(a)\n",
    "    \n",
    "    d1 = {k: v for k, v in sorted(d.items(), key=lambda item: item[1])}\n",
    "    return d1.keys()\n",
    "\n",
    "sort_by_length([\"Leonardo\",\"Michelangelo\", \"Raphael\", \"Donatello\"])"
   ]
  },
  {
   "cell_type": "markdown",
   "id": "ed743d9f",
   "metadata": {},
   "source": [
    "Question5\n",
    "Create a function that validates whether three given integers form a Pythagorean triplet. The\n",
    "sum of the squares of the two smallest integers must equal the square of the largest number to\n",
    "be validated.\n",
    "\n",
    "Examples\n",
    "is_triplet(3, 4, 5) ➞ True\n",
    "3² + 4² = 25\n",
    "5² = 25"
   ]
  },
  {
   "cell_type": "code",
   "execution_count": 17,
   "id": "2f77a243",
   "metadata": {},
   "outputs": [
    {
     "data": {
      "text/plain": [
       "True"
      ]
     },
     "execution_count": 17,
     "metadata": {},
     "output_type": "execute_result"
    }
   ],
   "source": [
    "def is_triplet(a, b, c):\n",
    "    maxx = max([a,b,c])\n",
    "    minn = min([a,b,c])\n",
    "    for x in [a,b,c]:\n",
    "        if x not in [maxx, minn]:\n",
    "            mid = x\n",
    "            break;\n",
    "    return maxx**2 == minn**2 + mid**2\n",
    "\n",
    "is_triplet(13, 5, 12)"
   ]
  },
  {
   "cell_type": "code",
   "execution_count": null,
   "id": "c9791b70",
   "metadata": {},
   "outputs": [],
   "source": []
  }
 ],
 "metadata": {
  "kernelspec": {
   "display_name": "Python 3 (ipykernel)",
   "language": "python",
   "name": "python3"
  },
  "language_info": {
   "codemirror_mode": {
    "name": "ipython",
    "version": 3
   },
   "file_extension": ".py",
   "mimetype": "text/x-python",
   "name": "python",
   "nbconvert_exporter": "python",
   "pygments_lexer": "ipython3",
   "version": "3.9.12"
  }
 },
 "nbformat": 4,
 "nbformat_minor": 5
}
