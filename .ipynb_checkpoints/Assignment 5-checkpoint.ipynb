{
 "cells": [
  {
   "cell_type": "markdown",
   "id": "540e1260",
   "metadata": {},
   "source": [
    "1. Write a Python Program to Find LCM?"
   ]
  },
  {
   "cell_type": "code",
   "execution_count": 5,
   "id": "c86529cb",
   "metadata": {},
   "outputs": [
    {
     "data": {
      "text/plain": [
       "24"
      ]
     },
     "execution_count": 5,
     "metadata": {},
     "output_type": "execute_result"
    }
   ],
   "source": [
    "a = 8\n",
    "b = 6\n",
    "m = a*b\n",
    "res = 1\n",
    "for n in range(1, m+1):\n",
    "    if n%a==0 and n%b==0:\n",
    "        res = n \n",
    "        break;\n",
    "\n",
    "res"
   ]
  },
  {
   "cell_type": "markdown",
   "id": "40858ccb",
   "metadata": {},
   "source": [
    "2. Write a Python Program to Find HCF?"
   ]
  },
  {
   "cell_type": "code",
   "execution_count": 7,
   "id": "d696bfd6",
   "metadata": {},
   "outputs": [
    {
     "data": {
      "text/plain": [
       "6"
      ]
     },
     "execution_count": 7,
     "metadata": {},
     "output_type": "execute_result"
    }
   ],
   "source": [
    "a = 30\n",
    "b = 42\n",
    "m = a*b\n",
    "res = 1\n",
    "for n in range(m+1, 1, -1):\n",
    "    if a%n==0 and b%n==0:\n",
    "        res = n \n",
    "        break;\n",
    "\n",
    "res"
   ]
  },
  {
   "cell_type": "markdown",
   "id": "5ac3f69e",
   "metadata": {},
   "source": [
    "3. Write a Python Program to Convert Decimal to Binary, Octal and Hexadecimal?"
   ]
  },
  {
   "cell_type": "code",
   "execution_count": 10,
   "id": "406a84b7",
   "metadata": {},
   "outputs": [
    {
     "name": "stdout",
     "output_type": "stream",
     "text": [
      "0b1010100111 0o1247 0x2a7\n"
     ]
    }
   ],
   "source": [
    "num = 679\n",
    "binn = bin(num)\n",
    "octt = oct(num)\n",
    "hexx = hex(num)\n",
    "print(binn, octt, hexx)"
   ]
  },
  {
   "cell_type": "markdown",
   "id": "447bc83d",
   "metadata": {},
   "source": [
    "4. Write a Python Program To Find ASCII value of a character?"
   ]
  },
  {
   "cell_type": "code",
   "execution_count": 11,
   "id": "b5188cd9",
   "metadata": {},
   "outputs": [
    {
     "data": {
      "text/plain": [
       "97"
      ]
     },
     "execution_count": 11,
     "metadata": {},
     "output_type": "execute_result"
    }
   ],
   "source": [
    "ord('a')"
   ]
  },
  {
   "cell_type": "markdown",
   "id": "2daec767",
   "metadata": {},
   "source": [
    "5. Write a Python Program to Make a Simple Calculator with 4 basic mathematical operations?"
   ]
  },
  {
   "cell_type": "code",
   "execution_count": 18,
   "id": "7adc2c26",
   "metadata": {},
   "outputs": [
    {
     "name": "stdout",
     "output_type": "stream",
     "text": [
      "Enter first number: 34\n",
      "Enter second number: 45\n",
      "Enter mathematical operation number: /\n",
      "Result:  0.7555555555555555\n"
     ]
    }
   ],
   "source": [
    "a = int(input(\"Enter first number: \"))\n",
    "b = int(input(\"Enter second number: \"))\n",
    "c = input(\"Enter mathematical operation number: \")\n",
    "if c == \"+\":\n",
    "    res = a+b\n",
    "if c == \"-\":\n",
    "    res = a-b\n",
    "if c == \"*\":\n",
    "    res = a*b\n",
    "if c == \"/\":\n",
    "    res = a/b\n",
    "\n",
    "print(\"Result: \", res)"
   ]
  },
  {
   "cell_type": "code",
   "execution_count": null,
   "id": "5394202f",
   "metadata": {},
   "outputs": [],
   "source": []
  }
 ],
 "metadata": {
  "kernelspec": {
   "display_name": "Python 3 (ipykernel)",
   "language": "python",
   "name": "python3"
  },
  "language_info": {
   "codemirror_mode": {
    "name": "ipython",
    "version": 3
   },
   "file_extension": ".py",
   "mimetype": "text/x-python",
   "name": "python",
   "nbconvert_exporter": "python",
   "pygments_lexer": "ipython3",
   "version": "3.9.12"
  }
 },
 "nbformat": 4,
 "nbformat_minor": 5
}
