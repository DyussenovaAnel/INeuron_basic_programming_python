{
 "cells": [
  {
   "cell_type": "markdown",
   "id": "b8a7f708",
   "metadata": {},
   "source": [
    "1. Write a Python Program to Display Fibonacci Sequence Using Recursion?"
   ]
  },
  {
   "cell_type": "code",
   "execution_count": 8,
   "id": "ed566e90",
   "metadata": {},
   "outputs": [],
   "source": [
    "def fibo_rec(n, num, num1):\n",
    "    if num +num1 >= n:\n",
    "        print(n) \n",
    "        return\n",
    "    print(num+num1)\n",
    "    return fibo_rec(n, num1, num+num1)\n",
    "\n",
    "def fibo(n):\n",
    "    return fibo_rec(n,0,1)"
   ]
  },
  {
   "cell_type": "code",
   "execution_count": 9,
   "id": "7050cc5b",
   "metadata": {},
   "outputs": [
    {
     "name": "stdout",
     "output_type": "stream",
     "text": [
      "1\n",
      "2\n",
      "3\n",
      "5\n",
      "8\n",
      "13\n"
     ]
    }
   ],
   "source": [
    "fibo(13)"
   ]
  },
  {
   "cell_type": "markdown",
   "id": "fb54c93c",
   "metadata": {},
   "source": [
    "2. Write a Python Program to Find Factorial of Number Using Recursion?"
   ]
  },
  {
   "cell_type": "code",
   "execution_count": 15,
   "id": "6cc50d4c",
   "metadata": {},
   "outputs": [],
   "source": [
    "def fact_rec(n, res):\n",
    "    if n <= 1: \n",
    "        return res\n",
    "    return recur(n-1, res*n)\n",
    "\n",
    "def factt(n):\n",
    "    return fact_rec(n, 1)"
   ]
  },
  {
   "cell_type": "code",
   "execution_count": 19,
   "id": "681c1ae7",
   "metadata": {},
   "outputs": [
    {
     "data": {
      "text/plain": [
       "720"
      ]
     },
     "execution_count": 19,
     "metadata": {},
     "output_type": "execute_result"
    }
   ],
   "source": [
    "factt(6)"
   ]
  },
  {
   "cell_type": "markdown",
   "id": "0bdc9e0c",
   "metadata": {},
   "source": [
    "3. Write a Python Program to calculate your Body Mass Index?"
   ]
  },
  {
   "cell_type": "code",
   "execution_count": 23,
   "id": "c307c14f",
   "metadata": {},
   "outputs": [],
   "source": [
    "def bmi(height, weight):\n",
    "    res = weight/height\n",
    "    return res"
   ]
  },
  {
   "cell_type": "code",
   "execution_count": 24,
   "id": "70069f64",
   "metadata": {},
   "outputs": [
    {
     "data": {
      "text/plain": [
       "0.3869047619047619"
      ]
     },
     "execution_count": 24,
     "metadata": {},
     "output_type": "execute_result"
    }
   ],
   "source": [
    "bmi(168, 65)"
   ]
  },
  {
   "cell_type": "markdown",
   "id": "8404abab",
   "metadata": {},
   "source": [
    "4. Write a Python Program to calculate the natural logarithm of any number?"
   ]
  },
  {
   "cell_type": "code",
   "execution_count": 26,
   "id": "9b85ece3",
   "metadata": {},
   "outputs": [
    {
     "name": "stdout",
     "output_type": "stream",
     "text": [
      "4.356708826689592\n"
     ]
    }
   ],
   "source": [
    "import math\n",
    "print(math.log(78))"
   ]
  },
  {
   "cell_type": "markdown",
   "id": "8fac218d",
   "metadata": {},
   "source": [
    "5. Write a Python Program for cube sum of first n natural numbers?"
   ]
  },
  {
   "cell_type": "code",
   "execution_count": 35,
   "id": "8c5fb932",
   "metadata": {},
   "outputs": [],
   "source": [
    "def cube_sum_rec(n, res, temp):\n",
    "    if temp == n:\n",
    "        return res+temp**3\n",
    "    return cube_sum_rec(n, res+temp**3, temp+1)\n",
    "\n",
    "def cube_sum(n):\n",
    "    return cube_sum_rec(n, 0, 1)"
   ]
  },
  {
   "cell_type": "code",
   "execution_count": 36,
   "id": "73f5da16",
   "metadata": {},
   "outputs": [
    {
     "data": {
      "text/plain": [
       "36"
      ]
     },
     "execution_count": 36,
     "metadata": {},
     "output_type": "execute_result"
    }
   ],
   "source": [
    "cube_sum(3)"
   ]
  }
 ],
 "metadata": {
  "kernelspec": {
   "display_name": "Python 3 (ipykernel)",
   "language": "python",
   "name": "python3"
  },
  "language_info": {
   "codemirror_mode": {
    "name": "ipython",
    "version": 3
   },
   "file_extension": ".py",
   "mimetype": "text/x-python",
   "name": "python",
   "nbconvert_exporter": "python",
   "pygments_lexer": "ipython3",
   "version": "3.9.12"
  }
 },
 "nbformat": 4,
 "nbformat_minor": 5
}
