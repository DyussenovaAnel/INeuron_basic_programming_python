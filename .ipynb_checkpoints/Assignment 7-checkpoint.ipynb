{
 "cells": [
  {
   "cell_type": "markdown",
   "id": "1c5ba127",
   "metadata": {},
   "source": [
    "1. Write a Python Program to find sum of array?"
   ]
  },
  {
   "cell_type": "code",
   "execution_count": 1,
   "id": "2d3efa6e",
   "metadata": {},
   "outputs": [
    {
     "data": {
      "text/plain": [
       "6"
      ]
     },
     "execution_count": 1,
     "metadata": {},
     "output_type": "execute_result"
    }
   ],
   "source": [
    "arr = [1, 2, 3]\n",
    "res = sum(arr)\n",
    "res"
   ]
  },
  {
   "cell_type": "markdown",
   "id": "8010d0ed",
   "metadata": {},
   "source": [
    "2. Write a Python Program to find largest element in an array?"
   ]
  },
  {
   "cell_type": "code",
   "execution_count": 2,
   "id": "f934328a",
   "metadata": {},
   "outputs": [
    {
     "data": {
      "text/plain": [
       "3"
      ]
     },
     "execution_count": 2,
     "metadata": {},
     "output_type": "execute_result"
    }
   ],
   "source": [
    "arr = [1, 2, 3]\n",
    "res = max(arr)\n",
    "res"
   ]
  },
  {
   "cell_type": "markdown",
   "id": "58b23840",
   "metadata": {},
   "source": [
    "3. Write a Python Program for array rotation?"
   ]
  },
  {
   "cell_type": "code",
   "execution_count": 3,
   "id": "71f71e3c",
   "metadata": {},
   "outputs": [
    {
     "data": {
      "text/plain": [
       "[3, 2, 1]"
      ]
     },
     "execution_count": 3,
     "metadata": {},
     "output_type": "execute_result"
    }
   ],
   "source": [
    "arr = [1, 2, 3]\n",
    "res = arr[::-1]\n",
    "res"
   ]
  },
  {
   "cell_type": "markdown",
   "id": "06ca26c6",
   "metadata": {},
   "source": [
    "4. Write a Python Program to Split the array and add the first part to the end?"
   ]
  },
  {
   "cell_type": "code",
   "execution_count": 32,
   "id": "75a84e55",
   "metadata": {},
   "outputs": [
    {
     "data": {
      "text/plain": [
       "[2, 3, 1]"
      ]
     },
     "execution_count": 32,
     "metadata": {},
     "output_type": "execute_result"
    }
   ],
   "source": [
    "arr = [1, 2, 3]\n",
    "mid = len(arr)//2\n",
    "res = arr[mid:len(arr)] + arr[0:mid]\n",
    "res"
   ]
  },
  {
   "cell_type": "markdown",
   "id": "a40e551e",
   "metadata": {},
   "source": [
    "5. Write a Python Program to check if given array is Monotonic?"
   ]
  },
  {
   "cell_type": "code",
   "execution_count": 36,
   "id": "d299a735",
   "metadata": {},
   "outputs": [],
   "source": [
    "def monot(arr): \n",
    "    oper = \"\"\n",
    "    for i in range(0, len(arr)-1):\n",
    "        if arr[i]>arr[i+1]:\n",
    "            oper = \">\"\n",
    "            break;\n",
    "        if arr[i]<arr[i+1]:\n",
    "            oper = \"<\"\n",
    "            break;\n",
    "    \n",
    "    if oper == \">\":\n",
    "        for i in range(0, len(arr)-1):\n",
    "            if arr[i]<arr[i+1]:\n",
    "                return False\n",
    "    else:\n",
    "        for i in range(0, len(arr)-1):\n",
    "            if arr[i]>arr[i+1]:\n",
    "                return False\n",
    "    return True"
   ]
  },
  {
   "cell_type": "code",
   "execution_count": 38,
   "id": "8ddbb964",
   "metadata": {},
   "outputs": [
    {
     "data": {
      "text/plain": [
       "False"
      ]
     },
     "execution_count": 38,
     "metadata": {},
     "output_type": "execute_result"
    }
   ],
   "source": [
    "monot([1, 2, 3, 4, 4, 5, 4])"
   ]
  }
 ],
 "metadata": {
  "kernelspec": {
   "display_name": "Python 3 (ipykernel)",
   "language": "python",
   "name": "python3"
  },
  "language_info": {
   "codemirror_mode": {
    "name": "ipython",
    "version": 3
   },
   "file_extension": ".py",
   "mimetype": "text/x-python",
   "name": "python",
   "nbconvert_exporter": "python",
   "pygments_lexer": "ipython3",
   "version": "3.9.12"
  }
 },
 "nbformat": 4,
 "nbformat_minor": 5
}
