{
 "cells": [
  {
   "cell_type": "code",
   "execution_count": null,
   "id": "3085177c",
   "metadata": {},
   "outputs": [],
   "source": [
    "1. Write a Python program to find words which are greater than given length k?\n",
    "2. Write a Python program for removing i-th character from a string?\n",
    "3. Write a Python program to split and join a string?\n",
    "4. Write a Python to check if a given string is binary string or not?\n",
    "5. Write a Python program to find uncommon words from two Strings?\n",
    "6. Write a Python to find all duplicate characters in string?\n",
    "7. Write a Python Program to check if a string contains any special character?"
   ]
  },
  {
   "cell_type": "markdown",
   "id": "6c68d643",
   "metadata": {},
   "source": [
    "1. Write a Python program to find words which are greater than given length k?"
   ]
  },
  {
   "cell_type": "code",
   "execution_count": 2,
   "id": "186afa5a",
   "metadata": {},
   "outputs": [
    {
     "data": {
      "text/plain": [
       "['aaaa', 'aswedrf', 'hello']"
      ]
     },
     "execution_count": 2,
     "metadata": {},
     "output_type": "execute_result"
    }
   ],
   "source": [
    "def big_len(k, arr):\n",
    "    res = []\n",
    "    for a in arr:\n",
    "        if len(a)>k:\n",
    "            res.append(a)\n",
    "    return res\n",
    "\n",
    "big_len(3, [\"arr\", \"aaaa\", \"aswedrf\", \"hello\", \"no\"])"
   ]
  },
  {
   "cell_type": "markdown",
   "id": "35ed5351",
   "metadata": {},
   "source": [
    "2. Write a Python program for removing i-th character from a string?"
   ]
  },
  {
   "cell_type": "code",
   "execution_count": 10,
   "id": "edb01369",
   "metadata": {},
   "outputs": [
    {
     "data": {
      "text/plain": [
       "'hello'"
      ]
     },
     "execution_count": 10,
     "metadata": {},
     "output_type": "execute_result"
    }
   ],
   "source": [
    "def big_len(i, s):\n",
    "    s = s.replace(s[i],\"\", 1)\n",
    "    return s\n",
    "big_len(3, \"helllo\")"
   ]
  },
  {
   "cell_type": "markdown",
   "id": "e4e5b582",
   "metadata": {},
   "source": [
    "3. Write a Python program to split and join a string?"
   ]
  },
  {
   "cell_type": "code",
   "execution_count": 12,
   "id": "8dfea74a",
   "metadata": {},
   "outputs": [
    {
     "name": "stdout",
     "output_type": "stream",
     "text": [
      "hello he llo\n"
     ]
    }
   ],
   "source": [
    "s = \"hello\"\n",
    "i = 2\n",
    "first_part = s[:i]\n",
    "second_part = s[i:]\n",
    "back_together = first_part + second_part\n",
    "print(back_together, first_part,second_part)"
   ]
  },
  {
   "cell_type": "markdown",
   "id": "7b90c98b",
   "metadata": {},
   "source": [
    "4. Write a Python to check if a given string is binary string or not?"
   ]
  },
  {
   "cell_type": "markdown",
   "id": "6a7abcf7",
   "metadata": {},
   "source": [
    "Didnt understand the question"
   ]
  },
  {
   "cell_type": "markdown",
   "id": "914b54de",
   "metadata": {},
   "source": [
    "5. Write a Python program to find uncommon words from two Strings?"
   ]
  },
  {
   "cell_type": "code",
   "execution_count": 23,
   "id": "e0dd2fa8",
   "metadata": {},
   "outputs": [
    {
     "data": {
      "text/plain": [
       "{'one', 'qwerty', 'two'}"
      ]
     },
     "execution_count": 23,
     "metadata": {},
     "output_type": "execute_result"
    }
   ],
   "source": [
    "import re\n",
    "s1 = \"words from one Strings!\"\n",
    "s2 = \"words from two Strings, qwerty?\"\n",
    "def uncommon(s1, s2):\n",
    "    s1 = re.sub(r'[^\\w\\s]','',s1)\n",
    "    s2 = re.sub(r'[^\\w\\s]','',s2)\n",
    "    s_arr1 = set(s1.split(\" \"))\n",
    "    s_arr2 = set(s2.split(\" \"))\n",
    "    return s_arr1.symmetric_difference(s_arr2)\n",
    "\n",
    "uncommon(s1, s2)"
   ]
  },
  {
   "cell_type": "markdown",
   "id": "e5dc09b9",
   "metadata": {},
   "source": [
    "6. Write a Python to find all duplicate characters in string?"
   ]
  },
  {
   "cell_type": "code",
   "execution_count": 32,
   "id": "efe1caa9",
   "metadata": {},
   "outputs": [
    {
     "data": {
      "text/plain": [
       "{'one', 'words'}"
      ]
     },
     "execution_count": 32,
     "metadata": {},
     "output_type": "execute_result"
    }
   ],
   "source": [
    "from collections import Counter\n",
    "s1 = \"words from one Strings words two one one\"\n",
    "def duplicates(s1):\n",
    "    s1 = re.sub(r'[^\\w\\s]','',s1)\n",
    "    s_arr1 = s1.split(\" \")\n",
    "    sett = set()\n",
    "    res  = set()\n",
    "    \n",
    "    for s in s_arr1:\n",
    "        if s not in sett:\n",
    "            sett.add(s)\n",
    "        elif s not in res:\n",
    "            res.add(s)\n",
    "    return res\n",
    "\n",
    "duplicates(s1)"
   ]
  },
  {
   "cell_type": "markdown",
   "id": "8dfef5d5",
   "metadata": {},
   "source": [
    "7. Write a Python Program to check if a string contains any special character?"
   ]
  },
  {
   "cell_type": "code",
   "execution_count": 44,
   "id": "c96cf4b2",
   "metadata": {},
   "outputs": [
    {
     "data": {
      "text/plain": [
       "True"
      ]
     },
     "execution_count": 44,
     "metadata": {},
     "output_type": "execute_result"
    }
   ],
   "source": [
    "import string\n",
    "s1 = \"words, from, one!@ Strings: words two one one\"\n",
    "def spec_char(s1):\n",
    "    s_arr1 = list(s1)\n",
    "    for s in s_arr1:\n",
    "        if s in string.punctuation:\n",
    "            return True\n",
    "    return False\n",
    "            \n",
    "spec_char(s1)"
   ]
  },
  {
   "cell_type": "code",
   "execution_count": null,
   "id": "2d04f94f",
   "metadata": {},
   "outputs": [],
   "source": []
  }
 ],
 "metadata": {
  "kernelspec": {
   "display_name": "Python 3 (ipykernel)",
   "language": "python",
   "name": "python3"
  },
  "language_info": {
   "codemirror_mode": {
    "name": "ipython",
    "version": 3
   },
   "file_extension": ".py",
   "mimetype": "text/x-python",
   "name": "python",
   "nbconvert_exporter": "python",
   "pygments_lexer": "ipython3",
   "version": "3.9.12"
  }
 },
 "nbformat": 4,
 "nbformat_minor": 5
}
