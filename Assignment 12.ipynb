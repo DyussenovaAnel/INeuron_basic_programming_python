{
 "cells": [
  {
   "cell_type": "code",
   "execution_count": null,
   "id": "eabf1a38",
   "metadata": {},
   "outputs": [],
   "source": [
    "1. Write a Python program to Extract Unique values dictionary values?\n",
    "2. Write a Python program to find the sum of all items in a dictionary?\n",
    "3. Write a Python program to Merging two Dictionaries?\n",
    "4. Write a Python program to convert key-values list to flat dictionary?\n",
    "5. Write a Python program to insertion at the beginning in OrderedDict?\n",
    "6. Write a Python program to check order of character in string using OrderedDict()?\n",
    "7. Write a Python program to sort Python Dictionaries by Key or Value?"
   ]
  },
  {
   "cell_type": "markdown",
   "id": "c317b129",
   "metadata": {},
   "source": [
    "1. Write a Python program to Extract Unique values dictionary values?"
   ]
  },
  {
   "cell_type": "code",
   "execution_count": 2,
   "id": "5c198039",
   "metadata": {},
   "outputs": [
    {
     "name": "stdout",
     "output_type": "stream",
     "text": [
      "{1, 2, 3, 4}\n"
     ]
    }
   ],
   "source": [
    "d = {'a':1,\n",
    "     'b':2,\n",
    "     'c':1,\n",
    "     'd':3,\n",
    "     'c':4,\n",
    "     'd':3\n",
    "    }\n",
    "print(set(d.values()))"
   ]
  },
  {
   "cell_type": "markdown",
   "id": "45788807",
   "metadata": {},
   "source": [
    "2. Write a Python program to find the sum of all items in a dictionary?"
   ]
  },
  {
   "cell_type": "code",
   "execution_count": 3,
   "id": "df3bf4d2",
   "metadata": {},
   "outputs": [
    {
     "name": "stdout",
     "output_type": "stream",
     "text": [
      "10\n"
     ]
    }
   ],
   "source": [
    "d = {'a':1,\n",
    "     'b':2,\n",
    "     'c':1,\n",
    "     'd':3,\n",
    "     'e':4,\n",
    "     'f':3\n",
    "    }\n",
    "print(sum(d.values()))"
   ]
  },
  {
   "cell_type": "markdown",
   "id": "22a63923",
   "metadata": {},
   "source": [
    "3. Write a Python program to Merging two Dictionaries?"
   ]
  },
  {
   "cell_type": "code",
   "execution_count": 6,
   "id": "cdf61258",
   "metadata": {},
   "outputs": [
    {
     "name": "stdout",
     "output_type": "stream",
     "text": [
      "{'a': 1, 'b': 2, 'c': 4, 'd': 3, 'g': 5, 'h': 6, 'i': 8}\n"
     ]
    }
   ],
   "source": [
    "d1 = {'a':1,\n",
    "     'b':2,\n",
    "     'c':1,\n",
    "     'd':3,\n",
    "     'c':4,\n",
    "     'd':3\n",
    "    }\n",
    "d2 = {'g':5,\n",
    "     'h':6,\n",
    "     'i':8\n",
    "    }\n",
    "d3 = {**d1, **d2}\n",
    "print(d3)"
   ]
  },
  {
   "cell_type": "markdown",
   "id": "70c1d48a",
   "metadata": {},
   "source": [
    "4. Write a Python program to convert key-values list to flat dictionary?"
   ]
  },
  {
   "cell_type": "markdown",
   "id": "2535e897",
   "metadata": {},
   "source": [
    "5. Write a Python program to insertion at the beginning in OrderedDict?"
   ]
  },
  {
   "cell_type": "code",
   "execution_count": 8,
   "id": "d92f5fb1",
   "metadata": {},
   "outputs": [
    {
     "data": {
      "text/plain": [
       "OrderedDict([('f', 5), ('a', 1), ('b', 2), ('c', 3), ('d', 4)])"
      ]
     },
     "execution_count": 8,
     "metadata": {},
     "output_type": "execute_result"
    }
   ],
   "source": [
    "from collections import OrderedDict\n",
    "od = OrderedDict()\n",
    "od['a'] = 1\n",
    "od['b'] = 2\n",
    "od['c'] = 3\n",
    "od['d'] = 4\n",
    "od.update({'f':5})\n",
    "od.move_to_end('f', last=False)\n",
    "od"
   ]
  },
  {
   "cell_type": "markdown",
   "id": "2ecaab78",
   "metadata": {},
   "source": [
    "6. Write a Python program to check order of character in string using OrderedDict()?"
   ]
  },
  {
   "cell_type": "markdown",
   "id": "7f06077d",
   "metadata": {},
   "source": [
    "7. Write a Python program to sort Python Dictionaries by Key or Value?"
   ]
  },
  {
   "cell_type": "code",
   "execution_count": 12,
   "id": "e2b47314",
   "metadata": {},
   "outputs": [
    {
     "data": {
      "text/plain": [
       "{'a': 1, 'b': 2, 'c': 1, 'd': 3, 'e': 4, 'f': 3}"
      ]
     },
     "execution_count": 12,
     "metadata": {},
     "output_type": "execute_result"
    }
   ],
   "source": [
    "d1 = {'a':1,\n",
    "     'b':2,\n",
    "     'c':1,\n",
    "     'd':3,\n",
    "     'e':4,\n",
    "     'f':3\n",
    "    }\n",
    "\n",
    "def sortt(d, k_v = 1):\n",
    "    return dict(sorted(d.items(), key=lambda item: item[k_v]))\n",
    "\n",
    "sortt(d1, k_v = \"key\")"
   ]
  },
  {
   "cell_type": "code",
   "execution_count": null,
   "id": "46a8e0c1",
   "metadata": {},
   "outputs": [],
   "source": []
  }
 ],
 "metadata": {
  "kernelspec": {
   "display_name": "Python 3 (ipykernel)",
   "language": "python",
   "name": "python3"
  },
  "language_info": {
   "codemirror_mode": {
    "name": "ipython",
    "version": 3
   },
   "file_extension": ".py",
   "mimetype": "text/x-python",
   "name": "python",
   "nbconvert_exporter": "python",
   "pygments_lexer": "ipython3",
   "version": "3.9.12"
  }
 },
 "nbformat": 4,
 "nbformat_minor": 5
}
