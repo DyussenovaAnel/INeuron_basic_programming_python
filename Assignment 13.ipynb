{
 "cells": [
  {
   "cell_type": "markdown",
   "id": "8e42b333",
   "metadata": {},
   "source": [
    "Question 1:\n",
    "Write a program that calculates and prints the value according to the given formula:\n",
    "Q = Square root of [(2 * C * D)/H]\n",
    "Following are the fixed values of C and H:\n",
    "C is 50. H is 30.\n",
    "D is the variable whose values should be input to your program in a comma-separated\n",
    "sequence.\n",
    "Example\n",
    "Let us assume the following comma separated input sequence is given to the program:\n",
    "100,150,180\n",
    "The output of the program should be:\n",
    "18,22,24"
   ]
  },
  {
   "cell_type": "code",
   "execution_count": 7,
   "id": "768f1614",
   "metadata": {},
   "outputs": [
    {
     "name": "stdout",
     "output_type": "stream",
     "text": [
      "100,150,180\n",
      "[18, 22, 24]\n"
     ]
    }
   ],
   "source": [
    "import math\n",
    "def q_1():\n",
    "    arr = input()\n",
    "    arr = arr.split(\",\")\n",
    "    c, h = 50, 30\n",
    "    res_arr = []\n",
    "    for d in arr:\n",
    "        res = round(math.sqrt((2*c*int(d))/h))\n",
    "        res_arr.append(res)\n",
    "    return res_arr\n",
    "\n",
    "print(q_1())"
   ]
  },
  {
   "cell_type": "markdown",
   "id": "1695c0e0",
   "metadata": {},
   "source": [
    "Question 2:\n",
    "Write a program which takes 2 digits, X,Y as input and generates a 2-dimensional array. The\n",
    "element value in the i-th row and j-th column of the array should be i*j.\n",
    "Note: i=0,1.., X-1; j=0,1,¡Y-1.\n",
    "Example\n",
    "Suppose the following inputs are given to the program:\n",
    "3,5\n",
    "Then, the output of the program should be:\n",
    "[[0, 0, 0, 0, 0], [0, 1, 2, 3, 4], [0, 2, 4, 6, 8]]"
   ]
  },
  {
   "cell_type": "code",
   "execution_count": 9,
   "id": "aa25972f",
   "metadata": {},
   "outputs": [
    {
     "name": "stdout",
     "output_type": "stream",
     "text": [
      "[[0, 0, 0, 0, 0], [0, 1, 2, 3, 4], [0, 2, 4, 6, 8]]\n"
     ]
    }
   ],
   "source": [
    "def q_2(x, y):\n",
    "    res = []\n",
    "    for i in range(0, x):\n",
    "        res.append([])\n",
    "        for j in range(0, y):\n",
    "            res[i].append(i*j)\n",
    "    return res\n",
    "print(q_2(3,5))"
   ]
  },
  {
   "cell_type": "markdown",
   "id": "cab7165b",
   "metadata": {},
   "source": [
    "Question 3:\n",
    "Write a program that accepts a comma separated sequence of words as input and prints the\n",
    "words in a comma-separated sequence after sorting them alphabetically.\n",
    "Suppose the following input is supplied to the program:\n",
    "without,hello,bag,world\n",
    "Then, the output should be:\n",
    "bag,hello,without,world"
   ]
  },
  {
   "cell_type": "code",
   "execution_count": 11,
   "id": "dbd73313",
   "metadata": {},
   "outputs": [
    {
     "name": "stdout",
     "output_type": "stream",
     "text": [
      "without,hello,bag,world\n",
      "bag,hello,without,world\n"
     ]
    }
   ],
   "source": [
    "def q_3(text):\n",
    "    arr = text.split(\",\")\n",
    "    arr.sort()\n",
    "    res = ','.join(arr)\n",
    "    return res\n",
    "    \n",
    "text = input()\n",
    "print(q_3(text))"
   ]
  },
  {
   "cell_type": "markdown",
   "id": "e20b298f",
   "metadata": {},
   "source": [
    "Question 4:\n",
    "Write a program that accepts a sequence of whitespace separated words as input and prints\n",
    "the words after removing all duplicate words and sorting them alphanumerically.\n",
    "Suppose the following input is supplied to the program:\n",
    "hello world and practice makes perfect and hello world again\n",
    "Then, the output should be:\n",
    "again and hello makes perfect practice world"
   ]
  },
  {
   "cell_type": "code",
   "execution_count": 15,
   "id": "a3db3373",
   "metadata": {},
   "outputs": [
    {
     "name": "stdout",
     "output_type": "stream",
     "text": [
      "hello world and practice makes perfect and hello world again\n",
      "again and hello makes perfect practice world\n"
     ]
    }
   ],
   "source": [
    "def q_4(text):\n",
    "    arr = text.split(\" \")\n",
    "    arr = list(set(arr))\n",
    "    arr.sort()\n",
    "    res = ' '.join(arr)\n",
    "    return res\n",
    "    \n",
    "text = input()\n",
    "print(q_4(text))"
   ]
  },
  {
   "cell_type": "markdown",
   "id": "89d40866",
   "metadata": {},
   "source": [
    "Question 5:\n",
    "Write a program that accepts a sentence and calculate the number of letters and digits.\n",
    "Suppose the following input is supplied to the program:\n",
    "hello world! 123\n",
    "Then, the output should be:\n",
    "LETTERS 10\n",
    "\n",
    "DIGITS 3"
   ]
  },
  {
   "cell_type": "code",
   "execution_count": 26,
   "id": "feda7fd7",
   "metadata": {},
   "outputs": [
    {
     "name": "stdout",
     "output_type": "stream",
     "text": [
      "hello world! 123\n",
      "(10, 3)\n"
     ]
    }
   ],
   "source": [
    "import re\n",
    "\n",
    "def q_5(text):\n",
    "    text = re.sub(r'[^\\w\\s]','',text)\n",
    "    text = text.replace(\" \", \"\")\n",
    "    arr = list(text)\n",
    "    l, n = 0, 0 \n",
    "    for a in arr:\n",
    "        if a in \"1234567890\":\n",
    "            n+=1\n",
    "        else:\n",
    "            l+=1\n",
    "    return (l,n)\n",
    "    \n",
    "text = input()\n",
    "print(q_5(text))"
   ]
  },
  {
   "cell_type": "markdown",
   "id": "35098e82",
   "metadata": {},
   "source": [
    "Question 6:\n",
    "A website requires the users to input username and password to register. Write a program to\n",
    "check the validity of password input by users.\n",
    "Following are the criteria for checking the password:\n",
    "1. At least 1 letter between [a-z]\n",
    "2. At least 1 number between [0-9]\n",
    "1. At least 1 letter between [A-Z]\n",
    "3. At least 1 character from [$#@]\n",
    "4. Minimum length of transaction password: 6\n",
    "5. Maximum length of transaction password: 12\n",
    "Your program should accept a sequence of comma separated passwords and will check them\n",
    "according to the above criteria. Passwords that match the criteria are to be printed, each\n",
    "separated by a comma.\n",
    "Example\n",
    "If the following passwords are given as input to the program:\n",
    "ABd1234@1,a F1#,2w3E*,2We3345\n",
    "Then, the output of the program should be:\n",
    "ABd1234@1"
   ]
  },
  {
   "cell_type": "code",
   "execution_count": 27,
   "id": "f8c96caf",
   "metadata": {
    "scrolled": true
   },
   "outputs": [
    {
     "name": "stdout",
     "output_type": "stream",
     "text": [
      "ABd1234@1,a F1#,2w3E*,2We3345\n",
      "['ABd1234@1']\n"
     ]
    }
   ],
   "source": [
    "def q_6(text):\n",
    "    arr = text.split(\",\")\n",
    "    res = []\n",
    "    for password in arr:\n",
    "        first_rule, second_rule, third_rule, fourth_fifth_rules = False, False, False, False\n",
    "        for charr in password:\n",
    "            if charr.isalpha() and charr.islower():\n",
    "                first_rule = True\n",
    "            if charr in \"1234567890\":\n",
    "                second_rule = True\n",
    "            if charr.isalpha() and charr.isupper():\n",
    "                again_first_rule = True\n",
    "            if charr in \"$#@\":\n",
    "                third_rule = True\n",
    "                \n",
    "        if len(password)>6 and len(password)<12:\n",
    "            fourth_fifth_rules = True\n",
    "        if first_rule and second_rule and third_rule and fourth_fifth_rules and again_first_rule:\n",
    "            res.append(password)\n",
    "    return res\n",
    "\n",
    "text = input()\n",
    "print(q_6(text))"
   ]
  },
  {
   "cell_type": "code",
   "execution_count": null,
   "id": "ae2cc596",
   "metadata": {},
   "outputs": [],
   "source": []
  }
 ],
 "metadata": {
  "kernelspec": {
   "display_name": "Python 3 (ipykernel)",
   "language": "python",
   "name": "python3"
  },
  "language_info": {
   "codemirror_mode": {
    "name": "ipython",
    "version": 3
   },
   "file_extension": ".py",
   "mimetype": "text/x-python",
   "name": "python",
   "nbconvert_exporter": "python",
   "pygments_lexer": "ipython3",
   "version": "3.9.12"
  }
 },
 "nbformat": 4,
 "nbformat_minor": 5
}
