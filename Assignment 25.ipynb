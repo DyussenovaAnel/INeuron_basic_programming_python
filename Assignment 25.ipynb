{
 "cells": [
  {
   "cell_type": "markdown",
   "id": "a2a3ef6b",
   "metadata": {},
   "source": [
    "Question1\n",
    "Create a function that takes three integer arguments (a, b, c) and returns the amount of\n",
    "integers which are of equal value.\n",
    "Examples\n",
    "equal(3, 4, 3) ➞ 2"
   ]
  },
  {
   "cell_type": "code",
   "execution_count": 3,
   "id": "bebc2392",
   "metadata": {},
   "outputs": [
    {
     "data": {
      "text/plain": [
       "3"
      ]
     },
     "execution_count": 3,
     "metadata": {},
     "output_type": "execute_result"
    }
   ],
   "source": [
    "from collections import Counter\n",
    "\n",
    "def equal(a,b,c):\n",
    "    res = 0\n",
    "    if a==b or a==c:\n",
    "        res+=2\n",
    "    if b==c:\n",
    "        res+=2\n",
    "    if a==b==c:\n",
    "        res = 3\n",
    "    return res\n",
    "\n",
    "equal(3, 3, 3)"
   ]
  },
  {
   "cell_type": "markdown",
   "id": "629082d2",
   "metadata": {},
   "source": [
    "Question2\n",
    "Write a function that converts a dictionary into a list of keys-values tuples.\n",
    "Examples\n",
    "dict_to_list({\n",
    "\"D\": 1,\n",
    "\"B\": 2,\n",
    "\"C\": 3\n",
    "}) ➞ [(\"B\";, 2), (\"C\", 3), (\"D\", 1)]"
   ]
  },
  {
   "cell_type": "code",
   "execution_count": 5,
   "id": "341c74c6",
   "metadata": {},
   "outputs": [
    {
     "data": {
      "text/plain": [
       "[('D', 1), ('B', 2), ('C', 3)]"
      ]
     },
     "execution_count": 5,
     "metadata": {},
     "output_type": "execute_result"
    }
   ],
   "source": [
    "def dict_to_list(d):\n",
    "    return list(d.items())\n",
    "\n",
    "dict_to_list({\n",
    "\"D\": 1,\n",
    "\"B\": 2,\n",
    "\"C\": 3\n",
    "})"
   ]
  },
  {
   "cell_type": "markdown",
   "id": "727449a5",
   "metadata": {},
   "source": [
    "Question3\n",
    "Write a function that creates a dictionary with each (key, value) pair being the (lower case,\n",
    "upper case) versions of a letter, respectively.\n",
    "Examples\n",
    "mapping([\"p\", \"s\"]) ➞ { \"p\": \"P\", \"s\": \"S\" }"
   ]
  },
  {
   "cell_type": "code",
   "execution_count": 7,
   "id": "f95ebfdd",
   "metadata": {},
   "outputs": [
    {
     "data": {
      "text/plain": [
       "{'p': 'P', 's': 'S'}"
      ]
     },
     "execution_count": 7,
     "metadata": {},
     "output_type": "execute_result"
    }
   ],
   "source": [
    "def mapping(arr):\n",
    "    d = {}\n",
    "    for a in arr:\n",
    "        d[a] = a.upper()\n",
    "    return d\n",
    "\n",
    "mapping([\"p\", \"s\"])"
   ]
  },
  {
   "cell_type": "markdown",
   "id": "d78b0131",
   "metadata": {},
   "source": [
    "Question4\n",
    "Write a function, that replaces all vowels in a string with a specified vowel.\n",
    "Examples\n",
    "vow_replace(\"apples and bananas\", \"u\") ➞ \"upplus und bununus\""
   ]
  },
  {
   "cell_type": "code",
   "execution_count": 12,
   "id": "14989567",
   "metadata": {},
   "outputs": [
    {
     "data": {
      "text/plain": [
       "'upplus und bununus'"
      ]
     },
     "execution_count": 12,
     "metadata": {},
     "output_type": "execute_result"
    }
   ],
   "source": [
    "def vow_replace(text,u):\n",
    "    d = {\"a\": u,\"e\": u,\"y\": u,\"u\": u,\"i\": u,\"o\":u}\n",
    "    return ''.join(idx if idx not in d else d[idx] for idx in text)\n",
    "\n",
    "vow_replace(\"apples and bananas\", \"u\")"
   ]
  },
  {
   "cell_type": "markdown",
   "id": "c9b32495",
   "metadata": {},
   "source": [
    "Question5\n",
    "Create a function that takes a string as input and capitalizes a letter if its ASCII code is even\n",
    "and returns its lower case version if its ASCII code is odd.\n",
    "Examples\n",
    "ascii_capitalize(\"to be or not to be!\") ➞ \"To Be oR NoT To Be!\""
   ]
  },
  {
   "cell_type": "code",
   "execution_count": 17,
   "id": "397cbe49",
   "metadata": {},
   "outputs": [
    {
     "data": {
      "text/plain": [
       "'To Be oR NoT To Be!'"
      ]
     },
     "execution_count": 17,
     "metadata": {},
     "output_type": "execute_result"
    }
   ],
   "source": [
    "def ascii_capitalize(text):\n",
    "    arr =list(text)\n",
    "    for i in range(0, len(arr)):\n",
    "        if ord(arr[i])%2==0:\n",
    "            arr[i] = arr[i].upper()\n",
    "        else:\n",
    "            arr[i] = arr[i].lower()\n",
    "    return ''.join(arr)\n",
    "\n",
    "ascii_capitalize(\"to be or not to be!\")"
   ]
  },
  {
   "cell_type": "code",
   "execution_count": null,
   "id": "13f41ff0",
   "metadata": {},
   "outputs": [],
   "source": []
  }
 ],
 "metadata": {
  "kernelspec": {
   "display_name": "Python 3 (ipykernel)",
   "language": "python",
   "name": "python3"
  },
  "language_info": {
   "codemirror_mode": {
    "name": "ipython",
    "version": 3
   },
   "file_extension": ".py",
   "mimetype": "text/x-python",
   "name": "python",
   "nbconvert_exporter": "python",
   "pygments_lexer": "ipython3",
   "version": "3.9.12"
  }
 },
 "nbformat": 4,
 "nbformat_minor": 5
}
