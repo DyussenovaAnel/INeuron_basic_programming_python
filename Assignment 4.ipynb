{
 "cells": [
  {
   "cell_type": "markdown",
   "id": "58657f48",
   "metadata": {},
   "source": [
    "1. Write a Python Program to Find the Factorial of a Number?"
   ]
  },
  {
   "cell_type": "code",
   "execution_count": 6,
   "id": "4be4f30c",
   "metadata": {},
   "outputs": [
    {
     "name": "stdout",
     "output_type": "stream",
     "text": [
      "24\n"
     ]
    }
   ],
   "source": [
    "num = 4\n",
    "fact = 1\n",
    "for n in range(num, 1 , -1):\n",
    "    fact = fact*n\n",
    "    \n",
    "print(fact)"
   ]
  },
  {
   "cell_type": "markdown",
   "id": "4b2d93ca",
   "metadata": {},
   "source": [
    "2. Write a Python Program to Display the multiplication Table?"
   ]
  },
  {
   "cell_type": "code",
   "execution_count": 8,
   "id": "ec4a2aae",
   "metadata": {},
   "outputs": [
    {
     "name": "stdout",
     "output_type": "stream",
     "text": [
      "1  *  1  =  1\n",
      "1  *  2  =  2\n",
      "1  *  3  =  3\n",
      "1  *  4  =  4\n",
      "1  *  5  =  5\n",
      "1  *  6  =  6\n",
      "1  *  7  =  7\n",
      "1  *  8  =  8\n",
      "2  *  1  =  2\n",
      "2  *  2  =  4\n",
      "2  *  3  =  6\n",
      "2  *  4  =  8\n",
      "2  *  5  =  10\n",
      "2  *  6  =  12\n",
      "2  *  7  =  14\n",
      "2  *  8  =  16\n",
      "3  *  1  =  3\n",
      "3  *  2  =  6\n",
      "3  *  3  =  9\n",
      "3  *  4  =  12\n",
      "3  *  5  =  15\n",
      "3  *  6  =  18\n",
      "3  *  7  =  21\n",
      "3  *  8  =  24\n",
      "4  *  1  =  4\n",
      "4  *  2  =  8\n",
      "4  *  3  =  12\n",
      "4  *  4  =  16\n",
      "4  *  5  =  20\n",
      "4  *  6  =  24\n",
      "4  *  7  =  28\n",
      "4  *  8  =  32\n",
      "5  *  1  =  5\n",
      "5  *  2  =  10\n",
      "5  *  3  =  15\n",
      "5  *  4  =  20\n",
      "5  *  5  =  25\n",
      "5  *  6  =  30\n",
      "5  *  7  =  35\n",
      "5  *  8  =  40\n",
      "6  *  1  =  6\n",
      "6  *  2  =  12\n",
      "6  *  3  =  18\n",
      "6  *  4  =  24\n",
      "6  *  5  =  30\n",
      "6  *  6  =  36\n",
      "6  *  7  =  42\n",
      "6  *  8  =  48\n",
      "7  *  1  =  7\n",
      "7  *  2  =  14\n",
      "7  *  3  =  21\n",
      "7  *  4  =  28\n",
      "7  *  5  =  35\n",
      "7  *  6  =  42\n",
      "7  *  7  =  49\n",
      "7  *  8  =  56\n",
      "8  *  1  =  8\n",
      "8  *  2  =  16\n",
      "8  *  3  =  24\n",
      "8  *  4  =  32\n",
      "8  *  5  =  40\n",
      "8  *  6  =  48\n",
      "8  *  7  =  56\n",
      "8  *  8  =  64\n"
     ]
    }
   ],
   "source": [
    "for i in range(1, 9):\n",
    "    for j in range(1, 9):\n",
    "        print(i,\" * \", j, \" = \", i*j)"
   ]
  },
  {
   "cell_type": "markdown",
   "id": "7b8a2005",
   "metadata": {},
   "source": [
    "3. Write a Python Program to Print the Fibonacci sequence?"
   ]
  },
  {
   "cell_type": "code",
   "execution_count": 9,
   "id": "2bf206e0",
   "metadata": {},
   "outputs": [
    {
     "name": "stdout",
     "output_type": "stream",
     "text": [
      "0\n",
      "1\n",
      "1\n",
      "2\n",
      "3\n",
      "5\n",
      "8\n",
      "13\n",
      "21\n",
      "34\n",
      "55\n"
     ]
    }
   ],
   "source": [
    "num = 70\n",
    "prev = 0\n",
    "n = 1\n",
    "print(prev)\n",
    "while n <70:\n",
    "    print(n)    \n",
    "    n, prev = n + prev, n  "
   ]
  },
  {
   "cell_type": "markdown",
   "id": "272de1fb",
   "metadata": {},
   "source": [
    "4. Write a Python Program to Check Armstrong Number?"
   ]
  },
  {
   "cell_type": "code",
   "execution_count": 14,
   "id": "0ed5e9e6",
   "metadata": {},
   "outputs": [
    {
     "name": "stdout",
     "output_type": "stream",
     "text": [
      "is Armstrong Number\n"
     ]
    }
   ],
   "source": [
    "num = 371\n",
    "arr = list(str(num))\n",
    "length = len(arr)\n",
    "res  = 0\n",
    "for a in arr:\n",
    "    res += int(a)**length\n",
    "if res == num:\n",
    "    print(\"is Armstrong Number\")\n",
    "else:\n",
    "    print(\"not Armstrong Number\")"
   ]
  },
  {
   "cell_type": "markdown",
   "id": "10869640",
   "metadata": {},
   "source": [
    "5. Write a Python Program to Find Armstrong Number in an Interval?"
   ]
  },
  {
   "cell_type": "code",
   "execution_count": 19,
   "id": "c0b7f44b",
   "metadata": {},
   "outputs": [
    {
     "name": "stdout",
     "output_type": "stream",
     "text": [
      "[370, 371]\n"
     ]
    }
   ],
   "source": [
    "start = 300\n",
    "end = 374\n",
    "res_arr = []\n",
    "for n in range(start, end):\n",
    "    arr = list(str(n))\n",
    "    length = len(arr)\n",
    "    res = 0\n",
    "    for a in arr:\n",
    "        res += int(a)**length\n",
    "    if res == n:\n",
    "        res_arr.append(res)\n",
    "        \n",
    "print(res_arr)"
   ]
  },
  {
   "cell_type": "markdown",
   "id": "3c2093e6",
   "metadata": {},
   "source": [
    "6. Write a Python Program to Find the Sum of Natural Numbers?"
   ]
  },
  {
   "cell_type": "code",
   "execution_count": 20,
   "id": "5770f6c2",
   "metadata": {},
   "outputs": [
    {
     "data": {
      "text/plain": [
       "20"
      ]
     },
     "execution_count": 20,
     "metadata": {},
     "output_type": "execute_result"
    }
   ],
   "source": [
    "num_arr = [1, 2, 3, 4, 5, 5]\n",
    "sum(num_arr)"
   ]
  }
 ],
 "metadata": {
  "kernelspec": {
   "display_name": "Python 3 (ipykernel)",
   "language": "python",
   "name": "python3"
  },
  "language_info": {
   "codemirror_mode": {
    "name": "ipython",
    "version": 3
   },
   "file_extension": ".py",
   "mimetype": "text/x-python",
   "name": "python",
   "nbconvert_exporter": "python",
   "pygments_lexer": "ipython3",
   "version": "3.9.12"
  }
 },
 "nbformat": 4,
 "nbformat_minor": 5
}
