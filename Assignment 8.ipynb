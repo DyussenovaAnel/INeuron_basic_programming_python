{
 "cells": [
  {
   "cell_type": "markdown",
   "id": "0e6f7ec5",
   "metadata": {},
   "source": [
    "1. Write a Python Program to Add Two Matrices?"
   ]
  },
  {
   "cell_type": "code",
   "execution_count": 6,
   "id": "1f2d6e5e",
   "metadata": {},
   "outputs": [
    {
     "data": {
      "text/plain": [
       "[[2, 3], [3, 4]]"
      ]
     },
     "execution_count": 6,
     "metadata": {},
     "output_type": "execute_result"
    }
   ],
   "source": [
    "a = [[1, 2],[2, 3]]\n",
    "b = [[1, 1],[1, 1]]\n",
    "res = []\n",
    "for i in range(0, len(a)):\n",
    "    res.append([])\n",
    "    for j in range(0, len(a[i])):\n",
    "        res[i].append(a[i][j] + b[i][j])\n",
    "res"
   ]
  },
  {
   "cell_type": "markdown",
   "id": "ff5d91a8",
   "metadata": {},
   "source": [
    "2. Write a Python Program to Multiply Two Matrices?"
   ]
  },
  {
   "cell_type": "code",
   "execution_count": 19,
   "id": "e7e901f6",
   "metadata": {},
   "outputs": [
    {
     "data": {
      "text/plain": [
       "[[22, 15, 11, 33], [12, 20, 6, 18], [-2, 0, -1, -3]]"
      ]
     },
     "execution_count": 19,
     "metadata": {},
     "output_type": "execute_result"
    }
   ],
   "source": [
    "a = [[5, 3],[-2, 4],[-1,0]]\n",
    "b = [[2, 0, 1, 3], [4, 5, 2, 6]]\n",
    "res = []\n",
    "if len(a[0]) == len(b):\n",
    "    for i in range(0, len(a)):\n",
    "        res.append([])\n",
    "        for j in range (0 , len(b[0])):\n",
    "            temp = 0\n",
    "            for x in range(0, len(a[i])):\n",
    "                temp += a[i][x]*b[x][j]\n",
    "            res[i].append(temp)\n",
    "res"
   ]
  },
  {
   "cell_type": "markdown",
   "id": "510736d6",
   "metadata": {},
   "source": [
    "3. Write a Python Program to Transpose a Matrix?"
   ]
  },
  {
   "cell_type": "code",
   "execution_count": 22,
   "id": "0ff55c25",
   "metadata": {},
   "outputs": [
    {
     "data": {
      "text/plain": [
       "[[5, -2, -1], [3, 4, 0]]"
      ]
     },
     "execution_count": 22,
     "metadata": {},
     "output_type": "execute_result"
    }
   ],
   "source": [
    "a = [[5, 3],[-2, 4],[-1,0]]\n",
    "res  = []\n",
    "for i in range(0, len(a[0])):\n",
    "    temp = []\n",
    "    for j in range(0, len(a)):\n",
    "          temp.append(a[j][i])\n",
    "    res.append(temp)\n",
    "res"
   ]
  },
  {
   "cell_type": "markdown",
   "id": "83012068",
   "metadata": {},
   "source": [
    "4. Write a Python Program to Sort Words in Alphabetic Order?"
   ]
  },
  {
   "cell_type": "code",
   "execution_count": 27,
   "id": "9292545f",
   "metadata": {},
   "outputs": [
    {
     "data": {
      "text/plain": [
       "'Alphabetic Order Program Python Sort Words Write a in to'"
      ]
     },
     "execution_count": 27,
     "metadata": {},
     "output_type": "execute_result"
    }
   ],
   "source": [
    "text  = \"Write a Python Program to Sort Words in Alphabetic Order\"\n",
    "text  = text.split()\n",
    "text.sort()\n",
    "text = ' '.join(text)\n",
    "text"
   ]
  },
  {
   "cell_type": "markdown",
   "id": "de8a76c1",
   "metadata": {},
   "source": [
    "5. Write a Python Program to Remove Punctuation From a String?"
   ]
  },
  {
   "cell_type": "code",
   "execution_count": 28,
   "id": "fd7eb3b1",
   "metadata": {},
   "outputs": [
    {
     "data": {
      "text/plain": [
       "'Write a Python Program to Remove Punctuation From a String'"
      ]
     },
     "execution_count": 28,
     "metadata": {},
     "output_type": "execute_result"
    }
   ],
   "source": [
    "import re\n",
    "s = \"Write. a Python> Program, to Remove: Punctuation; From! a String?\"\n",
    "s = re.sub(r'[^\\w\\s]','',s)\n",
    "s"
   ]
  }
 ],
 "metadata": {
  "kernelspec": {
   "display_name": "Python 3 (ipykernel)",
   "language": "python",
   "name": "python3"
  },
  "language_info": {
   "codemirror_mode": {
    "name": "ipython",
    "version": 3
   },
   "file_extension": ".py",
   "mimetype": "text/x-python",
   "name": "python",
   "nbconvert_exporter": "python",
   "pygments_lexer": "ipython3",
   "version": "3.9.12"
  }
 },
 "nbformat": 4,
 "nbformat_minor": 5
}
