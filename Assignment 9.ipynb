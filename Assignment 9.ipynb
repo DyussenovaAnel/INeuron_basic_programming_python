{
 "cells": [
  {
   "cell_type": "markdown",
   "id": "e24a95ee",
   "metadata": {},
   "source": [
    "1. Write a Python program to check if the given number is a Disarium Number?"
   ]
  },
  {
   "cell_type": "code",
   "execution_count": 4,
   "id": "ba3ba56e",
   "metadata": {},
   "outputs": [
    {
     "name": "stdout",
     "output_type": "stream",
     "text": [
      "True\n"
     ]
    }
   ],
   "source": [
    "n = 135\n",
    "arr  = list(str(n))\n",
    "res = 0\n",
    "for i in range(0, len(arr)):\n",
    "    res += int(arr[i])**(i+1)\n",
    "if res == n:\n",
    "    print(True)\n",
    "else:\n",
    "    print(False)"
   ]
  },
  {
   "cell_type": "markdown",
   "id": "87c0212a",
   "metadata": {},
   "source": [
    "2. Write a Python program to print all disarium numbers between 1 to 100?"
   ]
  },
  {
   "cell_type": "code",
   "execution_count": 6,
   "id": "7a0de12e",
   "metadata": {},
   "outputs": [
    {
     "data": {
      "text/plain": [
       "[1, 2, 3, 4, 5, 6, 7, 8, 9, 89]"
      ]
     },
     "execution_count": 6,
     "metadata": {},
     "output_type": "execute_result"
    }
   ],
   "source": [
    "res_arr = []\n",
    "for n in range(1, 100):\n",
    "    arr  = list(str(n))\n",
    "    res = 0\n",
    "    for i in range(0, len(arr)):\n",
    "        res += int(arr[i])**(i+1)\n",
    "    if res == n:\n",
    "        res_arr.append(res)\n",
    "res_arr"
   ]
  },
  {
   "cell_type": "markdown",
   "id": "12b40c77",
   "metadata": {},
   "source": [
    "3. Write a Python program to check if the given number is Happy Number?"
   ]
  },
  {
   "cell_type": "code",
   "execution_count": 45,
   "id": "a2404016",
   "metadata": {},
   "outputs": [],
   "source": [
    "def happy(num):\n",
    "    temp = num\n",
    "    st=set()\n",
    "    while True:\n",
    "        if temp not in st:\n",
    "            st.add(temp)\n",
    "            arr = list(str(temp))\n",
    "            temp = 0\n",
    "            for i in range(0, len(arr)):\n",
    "                temp += int(arr[i])**2\n",
    "            if temp ==1:\n",
    "                return True\n",
    "        else:\n",
    "            return False"
   ]
  },
  {
   "cell_type": "markdown",
   "id": "5168cc33",
   "metadata": {},
   "source": [
    "4. Write a Python program to print all happy numbers between 1 and 100?"
   ]
  },
  {
   "cell_type": "code",
   "execution_count": 47,
   "id": "29ee8349",
   "metadata": {},
   "outputs": [
    {
     "name": "stdout",
     "output_type": "stream",
     "text": [
      "1\n",
      "7\n",
      "10\n",
      "13\n",
      "19\n",
      "23\n",
      "28\n",
      "31\n",
      "32\n",
      "44\n",
      "49\n",
      "68\n",
      "70\n",
      "79\n",
      "82\n",
      "86\n",
      "91\n",
      "94\n",
      "97\n"
     ]
    }
   ],
   "source": [
    "for n in range(1, 100):\n",
    "    if happy(n):\n",
    "        print(n)"
   ]
  },
  {
   "cell_type": "markdown",
   "id": "08ac98da",
   "metadata": {},
   "source": [
    "5. Write a Python program to determine whether the given number is a Harshad Number?"
   ]
  },
  {
   "cell_type": "code",
   "execution_count": 52,
   "id": "820cf67d",
   "metadata": {},
   "outputs": [
    {
     "name": "stdout",
     "output_type": "stream",
     "text": [
      "False\n"
     ]
    }
   ],
   "source": [
    "n = 15\n",
    "arr  = list(str(n))\n",
    "arr = [int(a) for a in arr]\n",
    "s = sum(arr)\n",
    "if n%s==0:\n",
    "    print(True)\n",
    "else:\n",
    "    print(False)"
   ]
  },
  {
   "cell_type": "markdown",
   "id": "e01f0041",
   "metadata": {},
   "source": [
    "6. Write a Python program to print all pronic numbers between 1 and 100?"
   ]
  },
  {
   "cell_type": "code",
   "execution_count": 58,
   "id": "0f79083b",
   "metadata": {},
   "outputs": [
    {
     "name": "stdout",
     "output_type": "stream",
     "text": [
      "6\n",
      "12\n",
      "20\n",
      "30\n",
      "42\n",
      "56\n",
      "72\n",
      "90\n"
     ]
    }
   ],
   "source": [
    "n = 3\n",
    "while True:\n",
    "    res = n*(n-1)\n",
    "    if res>=100:\n",
    "        break;\n",
    "    print(res)\n",
    "    n +=1"
   ]
  },
  {
   "cell_type": "code",
   "execution_count": null,
   "id": "7684aaa5",
   "metadata": {},
   "outputs": [],
   "source": []
  }
 ],
 "metadata": {
  "kernelspec": {
   "display_name": "Python 3 (ipykernel)",
   "language": "python",
   "name": "python3"
  },
  "language_info": {
   "codemirror_mode": {
    "name": "ipython",
    "version": 3
   },
   "file_extension": ".py",
   "mimetype": "text/x-python",
   "name": "python",
   "nbconvert_exporter": "python",
   "pygments_lexer": "ipython3",
   "version": "3.9.12"
  }
 },
 "nbformat": 4,
 "nbformat_minor": 5
}
