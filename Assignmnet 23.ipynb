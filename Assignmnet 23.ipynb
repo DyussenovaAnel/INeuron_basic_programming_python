{
 "cells": [
  {
   "cell_type": "markdown",
   "id": "3d7ead4b",
   "metadata": {},
   "source": [
    "Question 1\n",
    "Create a function that takes a number as an argument and returns True or False depending\n",
    "on whether the number is symmetrical or not. A number is symmetrical when it is the same as\n",
    "its reverse.\n",
    "Examples\n",
    "is_symmetrical(7227) ➞ True\n",
    "is_symmetrical(12567) ➞ False"
   ]
  },
  {
   "cell_type": "code",
   "execution_count": 3,
   "id": "2dedd2f4",
   "metadata": {},
   "outputs": [
    {
     "data": {
      "text/plain": [
       "False"
      ]
     },
     "execution_count": 3,
     "metadata": {},
     "output_type": "execute_result"
    }
   ],
   "source": [
    "def is_symmetrical(num):\n",
    "    temp = int(str(num)[::-1])\n",
    "    return num == temp\n",
    "\n",
    "is_symmetrical(12567)"
   ]
  },
  {
   "cell_type": "markdown",
   "id": "edd21541",
   "metadata": {},
   "source": [
    "Question 2\n",
    "Given a string of numbers separated by a comma and space, return the product of the\n",
    "numbers.\n",
    "Examples\n",
    "multiply_nums(\"2, 3\") ➞ 6\n",
    "multiply_nums(\"1, 2, 3, 4\") ➞ 24"
   ]
  },
  {
   "cell_type": "code",
   "execution_count": 12,
   "id": "378a18bd",
   "metadata": {},
   "outputs": [
    {
     "data": {
      "text/plain": [
       "6"
      ]
     },
     "execution_count": 12,
     "metadata": {},
     "output_type": "execute_result"
    }
   ],
   "source": [
    "def multiply_nums(text):\n",
    "    arr = text.split(\", \")\n",
    "    res = 1\n",
    "    for a in arr:\n",
    "        res*=int(a)\n",
    "    return res\n",
    "\n",
    "multiply_nums(\"2, 3\")"
   ]
  },
  {
   "cell_type": "code",
   "execution_count": null,
   "id": "74093e3a",
   "metadata": {},
   "outputs": [],
   "source": [
    "Question 3\n",
    "Create a function that squares every digit of a number.\n",
    "Examples\n",
    "square_digits(9119) ➞ 811181"
   ]
  },
  {
   "cell_type": "code",
   "execution_count": 13,
   "id": "c63485d2",
   "metadata": {},
   "outputs": [
    {
     "data": {
      "text/plain": [
       "811181"
      ]
     },
     "execution_count": 13,
     "metadata": {},
     "output_type": "execute_result"
    }
   ],
   "source": [
    "def square_digits(num):\n",
    "    arr_n = list(str(num))\n",
    "    res = \"\"\n",
    "    for a in arr_n:\n",
    "        temp = int(a)**2\n",
    "        res += str(temp)\n",
    "    return int(res)\n",
    "square_digits(9119)"
   ]
  },
  {
   "cell_type": "code",
   "execution_count": null,
   "id": "9ce09c3d",
   "metadata": {},
   "outputs": [],
   "source": [
    "Question 4\n",
    "Create a function that sorts a list and removes all duplicate items from it.\n",
    "Examples\n",
    "setify([1, 3, 3, 5, 5]) ➞ [1, 3, 5]"
   ]
  },
  {
   "cell_type": "code",
   "execution_count": 15,
   "id": "399fb007",
   "metadata": {},
   "outputs": [
    {
     "data": {
      "text/plain": [
       "[1, 3, 5]"
      ]
     },
     "execution_count": 15,
     "metadata": {},
     "output_type": "execute_result"
    }
   ],
   "source": [
    "def setify(arr):\n",
    "    arr.sort()\n",
    "    return list(set(arr))\n",
    "\n",
    "setify([1, 3, 3, 5, 5])"
   ]
  },
  {
   "cell_type": "code",
   "execution_count": null,
   "id": "1c14b548",
   "metadata": {},
   "outputs": [],
   "source": [
    "Question 5\n",
    "Create a function that returns the mean of all digits.\n",
    "Examples\n",
    "mean(42) ➞ 3"
   ]
  },
  {
   "cell_type": "code",
   "execution_count": null,
   "id": "73bc1601",
   "metadata": {},
   "outputs": [],
   "source": [
    "def mean(num):\n",
    "    arr_n = list(str(num))\n",
    "    res = 0\n",
    "    for a in arr_n:\n",
    "        res += int(a)\n",
    "        \n",
    "    return int(res/len(arr_n))\n",
    "\n",
    "mean(667)"
   ]
  }
 ],
 "metadata": {
  "kernelspec": {
   "display_name": "Python 3 (ipykernel)",
   "language": "python",
   "name": "python3"
  },
  "language_info": {
   "codemirror_mode": {
    "name": "ipython",
    "version": 3
   },
   "file_extension": ".py",
   "mimetype": "text/x-python",
   "name": "python",
   "nbconvert_exporter": "python",
   "pygments_lexer": "ipython3",
   "version": "3.9.12"
  }
 },
 "nbformat": 4,
 "nbformat_minor": 5
}
